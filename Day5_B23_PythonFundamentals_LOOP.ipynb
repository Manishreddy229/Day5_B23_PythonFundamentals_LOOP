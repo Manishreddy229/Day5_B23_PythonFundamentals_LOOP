{
 "cells": [
  {
   "cell_type": "code",
   "execution_count": 1,
   "metadata": {},
   "outputs": [
    {
     "name": "stdout",
     "output_type": "stream",
     "text": [
      "('maheshwari', 'vinay', 'vandana', 'harish', 'rithika', 'manish')\n"
     ]
    }
   ],
   "source": [
    "bank_customers = ('maheshwari','vinay','vandana','harish','rithika','manish')\n",
    "print(bank_customers)"
   ]
  },
  {
   "cell_type": "code",
   "execution_count": 6,
   "metadata": {},
   "outputs": [
    {
     "name": "stdout",
     "output_type": "stream",
     "text": [
      "Happy Ugadi to all you and your family,Maheshwari\n",
      "Happy Ugadi to all you and your family,Vinay\n",
      "Happy Ugadi to all you and your family,Vandana\n",
      "Happy Ugadi to all you and your family,Harish\n",
      "Happy Ugadi to all you and your family,Rithika\n",
      "Happy Ugadi to all you and your family,Manish\n"
     ]
    }
   ],
   "source": [
    "for m in bank_customers:\n",
    "    print(f\"Happy Ugadi to all you and your family,{m.title()}\")"
   ]
  },
  {
   "cell_type": "code",
   "execution_count": 8,
   "metadata": {},
   "outputs": [
    {
     "name": "stdout",
     "output_type": "stream",
     "text": [
      "Happy Ugadi to all you and your family,Maheshwari\n",
      "Happy Sri Ramanavami,Maheshwari\n",
      "Happy Ugadi to all you and your family,Vinay\n",
      "Happy Sri Ramanavami,Vinay\n",
      "Happy Ugadi to all you and your family,Vandana\n",
      "Happy Sri Ramanavami,Vandana\n",
      "Happy Ugadi to all you and your family,Harish\n",
      "Happy Sri Ramanavami,Harish\n",
      "Happy Ugadi to all you and your family,Rithika\n",
      "Happy Sri Ramanavami,Rithika\n",
      "Happy Ugadi to all you and your family,Manish\n",
      "Happy Sri Ramanavami,Manish\n"
     ]
    }
   ],
   "source": [
    "for m in bank_customers:\n",
    "    print(f\"Happy Ugadi to all you and your family,{m.title()}\")\n",
    "    print(f\"Happy Sri Ramanavami,{m.title()}\")"
   ]
  },
  {
   "cell_type": "code",
   "execution_count": 9,
   "metadata": {},
   "outputs": [
    {
     "name": "stdout",
     "output_type": "stream",
     "text": [
      "Happy Ugadi to all you and your family,Maheshwari\n",
      "Happy Sri Ramanavami,Maheshwari\n",
      "\n",
      "Happy Ugadi to all you and your family,Vinay\n",
      "Happy Sri Ramanavami,Vinay\n",
      "\n",
      "Happy Ugadi to all you and your family,Vandana\n",
      "Happy Sri Ramanavami,Vandana\n",
      "\n",
      "Happy Ugadi to all you and your family,Harish\n",
      "Happy Sri Ramanavami,Harish\n",
      "\n",
      "Happy Ugadi to all you and your family,Rithika\n",
      "Happy Sri Ramanavami,Rithika\n",
      "\n",
      "Happy Ugadi to all you and your family,Manish\n",
      "Happy Sri Ramanavami,Manish\n",
      "\n"
     ]
    }
   ],
   "source": [
    "for m in bank_customers:\n",
    "    print(f\"Happy Ugadi to all you and your family,{m.title()}\")\n",
    "    print(f\"Happy Sri Ramanavami,{m.title()}\\n\")"
   ]
  },
  {
   "cell_type": "code",
   "execution_count": 10,
   "metadata": {
    "scrolled": false
   },
   "outputs": [
    {
     "name": "stdout",
     "output_type": "stream",
     "text": [
      "Happy Ugadi to you and your family,Maheshwari\n",
      "Happy Sri Ramanavami,Maheshwari\n",
      "\n",
      "Happy Ugadi to you and your family,Vinay\n",
      "Happy Sri Ramanavami,Vinay\n",
      "\n",
      "Happy Ugadi to you and your family,Vandana\n",
      "Happy Sri Ramanavami,Vandana\n",
      "\n",
      "Happy Ugadi to you and your family,Harish\n",
      "Happy Sri Ramanavami,Harish\n",
      "\n",
      "Happy Ugadi to you and your family,Rithika\n",
      "Happy Sri Ramanavami,Rithika\n",
      "\n",
      "Happy Ugadi to you and your family,Manish\n",
      "Happy Sri Ramanavami,Manish\n",
      "\n",
      "Thank you\n"
     ]
    }
   ],
   "source": [
    "for m in bank_customers:\n",
    "    print(f\"Happy Ugadi to you and your family,{m.title()}\")\n",
    "    print(f\"Happy Sri Ramanavami,{m.title()}\\n\")\n",
    "    \n",
    "print('Thank you')"
   ]
  },
  {
   "cell_type": "code",
   "execution_count": 58,
   "metadata": {},
   "outputs": [],
   "source": [
    "students = ['ajay','vijay','chanakya','kamlesh','pavan','nikhil']"
   ]
  },
  {
   "cell_type": "code",
   "execution_count": 59,
   "metadata": {},
   "outputs": [
    {
     "name": "stdout",
     "output_type": "stream",
     "text": [
      "['ajay', 'vijay', 'chanakya', 'kamlesh', 'pavan', 'nikhil']\n"
     ]
    }
   ],
   "source": [
    "print(students)"
   ]
  },
  {
   "cell_type": "code",
   "execution_count": 60,
   "metadata": {},
   "outputs": [
    {
     "name": "stdout",
     "output_type": "stream",
     "text": [
      "['ajay', 'chanakya', 'kamlesh', 'nikhil', 'pavan', 'vijay']\n"
     ]
    }
   ],
   "source": [
    "print(sorted(students))#temporary sorting"
   ]
  },
  {
   "cell_type": "code",
   "execution_count": 61,
   "metadata": {},
   "outputs": [
    {
     "name": "stdout",
     "output_type": "stream",
     "text": [
      "['ajay', 'vijay', 'chanakya', 'kamlesh', 'pavan', 'nikhil']\n"
     ]
    }
   ],
   "source": [
    "print(students)"
   ]
  },
  {
   "cell_type": "code",
   "execution_count": 62,
   "metadata": {},
   "outputs": [],
   "source": [
    "students.sort()#permanent sorting"
   ]
  },
  {
   "cell_type": "code",
   "execution_count": 63,
   "metadata": {},
   "outputs": [
    {
     "name": "stdout",
     "output_type": "stream",
     "text": [
      "['ajay', 'chanakya', 'kamlesh', 'nikhil', 'pavan', 'vijay']\n"
     ]
    }
   ],
   "source": [
    "print(students)"
   ]
  },
  {
   "cell_type": "code",
   "execution_count": null,
   "metadata": {},
   "outputs": [],
   "source": []
  }
 ],
 "metadata": {
  "kernelspec": {
   "display_name": "Python 3",
   "language": "python",
   "name": "python3"
  },
  "language_info": {
   "codemirror_mode": {
    "name": "ipython",
    "version": 3
   },
   "file_extension": ".py",
   "mimetype": "text/x-python",
   "name": "python",
   "nbconvert_exporter": "python",
   "pygments_lexer": "ipython3",
   "version": "3.7.6"
  }
 },
 "nbformat": 4,
 "nbformat_minor": 4
}
